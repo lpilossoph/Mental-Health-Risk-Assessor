{
 "cells": [
  {
   "cell_type": "markdown",
   "metadata": {},
   "source": [
    "# Tracking Depression and Suicidal Ideation in Social Media\n",
    "### Analysis and Dashboarding for tracking features associated with mental health risk\n",
    "## Part 3 - Text Classification; Suicidal ideation posts vs other mental health posts\n",
    "\n",
    "### Table of Contents\n",
    "\n",
    "* <a href='#Part_1'> Abstract</a> \n",
    "* <a href='#Part_2'> Obtain & Scrub</a>   \n",
    "* <a href='#Part_3'> Model Training/Testing</a> \n",
    "* <a href='#Part_4'> Hyperparameter Optimization</a>\n",
    "* <a href='#Part_5'> Final Model</a>\n",
    "* <a href='#Part_6'> Conclusions</a>"
   ]
  },
  {
   "cell_type": "code",
   "execution_count": 367,
   "metadata": {},
   "outputs": [],
   "source": [
    "#Importing Libraries\n",
    "import requests\n",
    "import nltk\n",
    "import json\n",
    "import time\n",
    "import pandas as pd\n",
    "import numpy as np\n",
    "import re\n",
    "import praw\n",
    "import prawcore\n",
    "import datetime as dt\n",
    "import matplotlib.pyplot as plt\n",
    "import scipy\n",
    "import pymongo\n",
    "import functions as functions\n",
    "import os\n",
    "import patsy as py\n",
    "import seaborn as sns\n",
    "import itertools\n",
    "import xgboost as xgb\n",
    "import tensorflow\n",
    "import sklearn\n",
    "import keras_metrics\n",
    "import shap\n",
    "import pickle\n",
    "\n",
    "from importlib import reload\n",
    "from numpy import mean, var\n",
    "from math import sqrt\n",
    "from os import path\n",
    "from pymongo import MongoClient, errors\n",
    "from pymongo.errors import InvalidDocument\n",
    "from patsy import dmatrices\n",
    "from textblob import TextBlob\n",
    "\n",
    "from nltk import word_tokenize, FreqDist\n",
    "from nltk.corpus import stopwords, wordnet\n",
    "from nltk.tokenize import RegexpTokenizer, word_tokenize\n",
    "from nltk.corpus.reader.wordnet import ADJ, ADJ_SAT, ADV, NOUN\n",
    "from nltk.stem.wordnet import WordNetLemmatizer\n",
    "from nltk.stem.porter import PorterStemmer\n",
    "\n",
    "from sklearn import preprocessing, svm, tree, model_selection\n",
    "from sklearn.utils import class_weight\n",
    "from sklearn.model_selection import train_test_split, GridSearchCV, StratifiedKFold, cross_val_score\n",
    "from sklearn.metrics import precision_score, recall_score, accuracy_score,precision_recall_fscore_support, auc\n",
    "from sklearn.metrics import f1_score, confusion_matrix, make_scorer, classification_report, roc_auc_score, SCORERS\n",
    "from sklearn.pipeline import Pipeline\n",
    "from sklearn.decomposition import PCA\n",
    "from sklearn.linear_model import LogisticRegression, LinearRegression, SGDClassifier                          \n",
    "from sklearn.ensemble import RandomForestClassifier, AdaBoostClassifier, GradientBoostingClassifier\n",
    "from sklearn.tree import DecisionTreeClassifier\n",
    "from sklearn.naive_bayes import MultinomialNB\n",
    "from sklearn.feature_extraction.text import TfidfVectorizer, CountVectorizer, TfidfTransformer\n",
    "\n",
    "\n",
    "from xgboost import XGBClassifier, plot_importance\n",
    "from wordcloud import WordCloud, STOPWORDS, ImageColorGenerator\n",
    "from gensim.models import Word2Vec\n",
    "from treeinterpreter import treeinterpreter as ti\n",
    "from shap import TreeExplainer\n",
    "\n",
    "from tensorflow.keras.callbacks import EarlyStopping, ReduceLROnPlateau, ModelCheckpoint\n",
    "from keras.preprocessing import text, sequence\n",
    "from keras.preprocessing.sequence import pad_sequences\n",
    "from keras_metrics import f1_score\n",
    "from keras.models import Model, Sequential\n",
    "from keras import initializers, regularizers, constraints, optimizers, layers\n",
    "from keras.layers import Dropout, Activation, Bidirectional, GlobalMaxPool1D, Input, Dense, LSTM, GRU, Embedding\n",
    "from keras import optimizers\n",
    "from gensim.models import Word2Vec\n",
    "from keras.preprocessing.text import Tokenizer\n",
    "from keras.preprocessing.sequence import pad_sequences\n",
    "from keras.layers import Dense, Input, Dropout, Activation, Conv1D, MaxPooling1D\n",
    "from keras.layers import GlobalMaxPool1D, GlobalMaxPooling1D\n",
    "from keras.models import Sequential\n",
    "from keras.callbacks import EarlyStopping\n",
    "from keras.optimizers import Adam, Nadam\n",
    "from keras.activations import relu, elu\n",
    "from keras.losses import categorical_crossentropy\n",
    "from keras.preprocessing.text import Tokenizer\n",
    "from keras.preprocessing.sequence import pad_sequences\n",
    "from keras import initializers, regularizers, constraints, optimizers, layers\n",
    "\n",
    "from functions import connect_to_reddit, connect_to_mongo, get_stem_abs, get_stop_words, text_cleaner, get_date;\n",
    "from functions import submissions_to_mongo, clean_df, get_tot_word, get_abs_word_count, get_perc_abs, cohend;\n",
    "from functions import get_abs_chart, get_post_distribution, wordcloud, clean_text, get_distribution, get_word_freq;\n",
    "from functions import evaluate, plot_confusion_matrix, get_authors, get_author_posts, check_exists, mongo_to_df;\n",
    "\n",
    "\n",
    "os.environ['KMP_DUPLICATE_LIB_OK']='True'\n",
    "import warnings\n",
    "warnings.filterwarnings('ignore')\n",
    "%matplotlib inline"
   ]
  },
  {
   "cell_type": "code",
   "execution_count": 222,
   "metadata": {},
   "outputs": [
    {
     "name": "stdout",
     "output_type": "stream",
     "text": [
      "now connected to mongo\n",
      "pillosoft connecting to reddit API\n"
     ]
    }
   ],
   "source": [
    "#connecting to mongo database\n",
    "client = connect_to_mongo()\n",
    "# connecting to reddit api\n",
    "reddit = connect_to_reddit()"
   ]
  },
  {
   "cell_type": "markdown",
   "metadata": {},
   "source": [
    "<a id='Part_1'></a>"
   ]
  },
  {
   "cell_type": "markdown",
   "metadata": {},
   "source": [
    "# Abstract"
   ]
  },
  {
   "cell_type": "markdown",
   "metadata": {},
   "source": [
    "Now that we can classify posts belonging to those on social media who self-identify as anxious, depressed or suicidal (based on their involvement in those forums) versus regular posters related to chronic diseases and/or hobbies, it would add additional value to clinicians if we could classify a distinction between mental health posters who are experiencing suicial ideation versus those social media posters who are depressed/anxious but are not experiencing suicidal ideation. \n",
    "\n",
    "If we can build a functioning classifier based on the limited, web-scraped data that we have, it would be extremely beneficial to both clinicians and loved ones alike who are concerned about the progress of a mental health patient under their care.\n",
    "\n",
    "In this section, we will take all the posts from all over reddit from those who have posted in the suicide forum at one point, and build a classifier that can identify their posts versus authors who have posted in other mental health type forums. Taking all of these authors' posts from all over reddit helps to generalize the data a bit more, so we can use the language of a poster who isn't just necessarily talking about suicidal ideation in a suicide-specific reddit forum, but we can also look at their language across all other forums that they have posted in, to see if we can identify any overall patterns in text."
   ]
  },
  {
   "cell_type": "code",
   "execution_count": 223,
   "metadata": {},
   "outputs": [
    {
     "name": "stdout",
     "output_type": "stream",
     "text": [
      "stop words list length is now:\n",
      "179\n",
      "adding words from include list\n",
      "new words have been added, stop words list length is now:\n",
      "429\n",
      "removing exlude words\n",
      "exclude list words removed. stop words length is now:\n",
      "428\n"
     ]
    }
   ],
   "source": [
    "abs_word_list = ['absolutely', 'all', 'always', 'complete', 'completely', 'constant', 'constantly', 'definitely', \n",
    "                 'entire', 'ever', 'every', 'everyone', 'everything', 'full', 'must', 'never', 'nothing', \n",
    "                 'totally', 'whole']\n",
    "\n",
    "remove_words = [\"http\", \"https\", \"www\", \"com\", \"reddit\", \"jpg\", 'x', 'b', 'f', 'r', 'c', 'd', 'e', 'f', \n",
    "               'g', 'h', 'j', 'k', 'l', 'm', 'n', 'o', 'p', 'op', 'q', 's', 't', 'u', 'v', 'w', 'y', 'z',\n",
    "               '00', '01', '04', '10', '100', '1000', '1000mg', '100mg', '100x', '108', '10k', '10lbs', \n",
    "                '10pm', '10th', '10yo', '10yrs', '11', '119', '11am', '11d', '11th', '12', '120', '12g', \n",
    "                '12ga', '12ish', '13', '14', '140', '146', '15', '150', '150mg', '1549449839413', '15min', \n",
    "                '16', '160', '162', '16f', '16y', '17', '170', '17f', '17th', '17yo', '18', '180', '189', \n",
    "                '18months', '18th', '19', '1950', '1974', '1996', '19o', '19th', '1drl', '1k', '1mg', '1st', \n",
    "                '1x', '20', '200', '2000', '2003', '2007', '200mg', '2010', '2012', '2014', '2015', '2016', \n",
    "                '2017', '2018', '2019', '20mg', '20oz', '20th', '21', '215lbs', '22', '22m', '23', '2300', \n",
    "                '23andme', '24', '24hrs', '25', '250', '2500', '250mg', '258', '25mg', '25th', '26', '260lbs', \n",
    "                '26yo', '27', '270', '27th', '27year', '28', '28th', '29', '2ahukewiuracn9kbgahvb6kqkhy2ld', \n",
    "                '2am', '2l', '2lbs', '2mo', '2nd', '2wks', '2x', '2years', '2yrs', '30', '300', '3000', \n",
    "                '3000mg', '300mg', '304', '30th', '31', '310', '31st', '32', '325mg', '32oz', '33', '34', \n",
    "                '340', '35', '350', '357', '37', '38', '39', '3am', '3lb', '3mg', '3pm', '3rd', '3rds', '40', \n",
    "                '400', '40cl', '40km', '40lbs', '40mg', '40s', '40th', '42', '43m', '44', '45', '450', '48', \n",
    "                '48oz', '49', '4am', '4th', '50', '500', '500mg', '50mcg', '50mg', '50oz', '50s', '5150', '5600',\n",
    "                '5677676', '57', '5k', '5mg', '5pm', '5th', '60', '600', '600mg', '60k', '61', '63', '64', '6am',\n",
    "                '6mg', '6th', '6yrs', '70', '700', '70cl', '70s', '72', '75mg', '79558b7f', '7pm', '7t4ngdpbitq',\n",
    "                '7th', '80', '800', '8th', '90', '92', '95', '99', '9am', '9th', '___', '_a', '_anyone', '_be',\n",
    "                '_food', '_for', '_in', '_interested', '_me', '_tracker', 'aa', 'aans', 'like']\n",
    "\n",
    "pre_stop_words = list(stopwords.words(\"english\"))\n",
    "\n",
    "moderators = ['S2S2S2S2S2','Psy-Kosh','SicSemperHumanus','SQLwitch','UnDire','pkbooo','skyqween','MykeeB',\n",
    "              'circinia','svneko','MuffinMedic','remyschnitzel','vodkalimes','dwade333miami','anxietymods',\n",
    "              'BotBust','MrZalarox','Pi25','analemmaro', 'abhava-sunya','sofar1776','AccioInternets','palisade2621',\n",
    "              'Hermiones_Teaspoon','AweBeyCon','dancingonfire','midnightdragon','elbowsss','Chefjones','pezes',\n",
    "              'sulkee','Greypo','exoendo','Jakeable','MeghanAM','JoyousCacophony','hansjens47','Qu1nlan',\n",
    "              'english06','samplebitch','optimalg','rhiever','Geographist','frostickle','NonNonHeinous',\n",
    "              'Vizual-Statistix','sarahbotts','zonination','spermface','yelper','mungoflago','ostedog','rsrsrsrs',\n",
    "              'townie_immigrant','JoeAllan','theReluctantHipster','AutoModerator', 'iimsorryy','wanderlusterer',\n",
    "              'awaxa','dosman711','mmccullen','Ariensus','turtletechnology','cascer1','cluckj','adidushi',\n",
    "              'Muffinzz','IHaveTheBestCandy','crilen','Cerenkov_Blue', 'binarysneaker','vomita_conejitos','polezo']\n",
    "\n",
    "subreddit_list = ['suicidewatch', 'depression', 'anxiety',\n",
    "                  'diabetes', 'heartdisease', 'gout', 'copd',\n",
    "                  'travel', 'basketball', 'harrypotter']\n",
    "\n",
    "stem_abs = get_stem_abs(abs_word_list)\n",
    "\n",
    "stop_words = get_stop_words(remove_words, abs_word_list, pre_stop_words)"
   ]
  },
  {
   "cell_type": "markdown",
   "metadata": {},
   "source": [
    "<a id='Part_2'></a>"
   ]
  },
  {
   "cell_type": "markdown",
   "metadata": {},
   "source": [
    "# Obtain & Scrub"
   ]
  },
  {
   "cell_type": "code",
   "execution_count": 224,
   "metadata": {},
   "outputs": [],
   "source": [
    "# accessing collections\n",
    "reddit_db = client[\"reddit\"]\n",
    "reddit_submissions = reddit_db['submissions_for_author_analysis']\n",
    "suicide_redditors = reddit_db['suicide']\n",
    "dep_redditors = reddit_db['dep']\n",
    "anx_redditors = reddit_db['anx']\n",
    "gout_redditors = reddit_db['gout']\n",
    "db_redditors = reddit_db['db']\n",
    "copd_redditors = reddit_db['copd']\n",
    "htn_redditors = reddit_db['htn']\n",
    "trav_redditors = reddit_db['travel']\n",
    "bb_redditors = reddit_db['bb']\n",
    "hp_redditors = reddit_db['hp']"
   ]
  },
  {
   "cell_type": "code",
   "execution_count": 225,
   "metadata": {},
   "outputs": [],
   "source": [
    "# converting mongo db collections to dataframes\n",
    "suicide_df, anx_df, dep_df, gout_df, htn_df, copd_df, db_df, travel_df, bb_df, hp_df = (None,)*10\n",
    "suicide_df = mongo_to_df(suicide_df, suicide_redditors)\n",
    "anx_df = mongo_to_df(anx_df, anx_redditors)\n",
    "dep_df = mongo_to_df(dep_df, dep_redditors)\n",
    "gout_df = mongo_to_df(gout_df, gout_redditors)\n",
    "htn_df = mongo_to_df(htn_df, htn_redditors)\n",
    "copd_df = mongo_to_df(copd_df, copd_redditors)\n",
    "db_df = mongo_to_df(db_df, db_redditors)\n",
    "travel_df = mongo_to_df(travel_df, trav_redditors)\n",
    "bb_df = mongo_to_df(bb_df, bb_redditors)\n",
    "hp_df = mongo_to_df(hp_df, hp_redditors)"
   ]
  },
  {
   "cell_type": "code",
   "execution_count": 411,
   "metadata": {
    "scrolled": false
   },
   "outputs": [
    {
     "name": "stdout",
     "output_type": "stream",
     "text": [
      "Example of the first 50 forums in the list of forums data was scraped from:\n",
      "\n",
      "['Anxiety' 'SmiteLFM' 'depression_help' 'Swimming' 'selfharm' 'opiates'\n",
      " 'depression' 'Music' 'relationships' 'Stims' 'offmychest' 'piano'\n",
      " 'macbookpro' 'AskDocs' 'cocaine' 'CrohnsDisease' 'Purdue'\n",
      " 'KitchenConfidential' 'grime' 'Borderlands' 'careerguidance'\n",
      " 'AnxietyDepression' 'teenagers' 'LilPeep' 'MechanicAdvice'\n",
      " 'unpopularopinion' 'NoFap' 'ACT' 'TheCloneWars' 'TalesFromYourBarista'\n",
      " 'fireTV' 'Bowling' 'leagueoflegends' 'BeardedDragons' 'vegan1200isplenty'\n",
      " 'MultipleSclerosis' 'Choices' 'Lowes' 'Staples' 'dysautonomia'\n",
      " 'prisonarchitect' 'verizon' 'crochet' 'datascience' 'storyofseasons'\n",
      " 'tipofmytongue' 'ExNoContact' 'CreditCards' 'skyrim' 'podcasts'] ...\n"
     ]
    }
   ],
   "source": [
    "# suicide reddit forum authors only, using the same authors' posts over all of reddit:\n",
    "s_df = suicide_df\n",
    "s_df.drop_duplicates(subset='cleaned_text', inplace=True)\n",
    "\n",
    "# anxiety/depression forum authors only, using the same authors' posts over all of reddit:\n",
    "df = pd.concat([anx_df, dep_df])\n",
    "df.drop_duplicates(subset='cleaned_text', inplace=True)\n",
    "\n",
    "# excluding those who are in the anxiety/depression group who have posted in the suicide forum:\n",
    "df = df[df.subreddit != 'SuicideWatch']\n",
    "\n",
    "# random sample to even out the groups:\n",
    "df = df.sample(n=2750)\n",
    "\n",
    "# labeling the groups\n",
    "df['labels'] = 0 # 0: Not suicidal\n",
    "s_df['labels'] = 1 # 1: suicidal\n",
    "print('Example of the first 50 forums in the list of forums data was scraped from:')\n",
    "print(\"\")\n",
    "print(df.subreddit.unique()[0:50], '...')"
   ]
  },
  {
   "cell_type": "code",
   "execution_count": 412,
   "metadata": {
    "scrolled": false
   },
   "outputs": [
    {
     "name": "stdout",
     "output_type": "stream",
     "text": [
      "Example of the first 50 forums in the list of forums data was scraped from:\n",
      "\n",
      "['SuicideWatch' 'offmychest' 'relationships' 'Advice' 'ftm' 'FTMMen'\n",
      " 'selfimprovement' 'rapecounseling' 'MakeNewFriendsHere' 'tipofmytongue'\n",
      " 'OntarioUniversities' 'FriendshipAdvice' 'NoFap' 'bipolar2' 'addiction'\n",
      " 'FreeCompliments' 'Petloss' 'Esthetics' 'Psychic' 'migraine'\n",
      " 'thyroidhealth' 'acne' 'cats' 'KingdomHearts' 'tales' 'Twitch' 'crochet'\n",
      " 'techsupport' 'HaircareScience' 'BreadTube' 'googleplaymusic' 'dxm' 'DPH'\n",
      " 'Drugs' 'lonely' 'XboxOneGamers' 'Needafriend' 'selfharm' 'depression'\n",
      " 'ForeverAlone' 'Anxiety' 'Christianity' 'pornfree' 'Psychosis'\n",
      " 'Nootropics' 'PlasticSurgery' 'diabetes' 'Peptides' 'phenibut'\n",
      " 'MemantineHCl'] ...\n"
     ]
    }
   ],
   "source": [
    "print('Example of the first 50 forums in the list of forums data was scraped from:')\n",
    "print(\"\")\n",
    "print(s_df.subreddit.unique()[0:50], '...')"
   ]
  },
  {
   "cell_type": "code",
   "execution_count": 248,
   "metadata": {},
   "outputs": [],
   "source": [
    "#joining the dataframes \n",
    "final_df = pd.concat([s_df, df])\n",
    "#dropping duplicates\n",
    "final_df.drop_duplicates(subset='cleaned_text', inplace=True)\n",
    "class_names = set(final_df.labels)"
   ]
  },
  {
   "cell_type": "markdown",
   "metadata": {},
   "source": [
    "<a id='Part_3'></a>"
   ]
  },
  {
   "cell_type": "markdown",
   "metadata": {},
   "source": [
    "# Model Training/Testing"
   ]
  },
  {
   "cell_type": "code",
   "execution_count": 228,
   "metadata": {},
   "outputs": [],
   "source": [
    "# train test split:\n",
    "X_train, X_test, y_train, y_test = train_test_split(final_df.cleaned_text, final_df.labels, \n",
    "                                                    train_size=0.65, test_size=0.35)"
   ]
  },
  {
   "cell_type": "markdown",
   "metadata": {},
   "source": [
    "### 1. Logistic Regression Classifier "
   ]
  },
  {
   "cell_type": "code",
   "execution_count": 229,
   "metadata": {
    "scrolled": false
   },
   "outputs": [
    {
     "name": "stdout",
     "output_type": "stream",
     "text": [
      "Logistic Regression Results\n",
      "\n",
      "Training Precision:  0.8723041997729852\n",
      "Testing Precision:  0.6745435016111708\n",
      "\n",
      "\n",
      "\n",
      "Training Recall:  0.8629983155530601\n",
      "Testing Recall:  0.6434426229508197\n",
      "\n",
      "\n",
      "\n",
      "Training Accuracy:  0.8671764372698952\n",
      "Testing Accuracy:  0.6577287066246057\n",
      "\n",
      "\n",
      "\n",
      "Training F1 Score:  0.8676263053909116\n",
      "Testing F1 Score:  0.6586261143156792\n",
      "\n",
      "\n",
      "\n",
      "Confusion matrix, without normalization\n"
     ]
    },
    {
     "data": {
      "image/png": "[encoded data removed]",
      "text/plain": [
       "<Figure size 432x288 with 2 Axes>"
      ]
     },
     "metadata": {
      "needs_background": "light"
     },
     "output_type": "display_data"
    },
    {
     "name": "stdout",
     "output_type": "stream",
     "text": [
      "\n",
      "\n",
      "\n",
      "Normalized confusion matrix\n"
     ]
    },
    {
     "data": {
      "image/png": "[encoded data removed]",
      "text/plain": [
       "<Figure size 432x288 with 2 Axes>"
      ]
     },
     "metadata": {
      "needs_background": "light"
     },
     "output_type": "display_data"
    }
   ],
   "source": [
    "# Utilizing pipelines to Count Vectorize, TF-IDF transform, and run the classifier:\n",
    "text_clf = Pipeline([('vect', CountVectorizer()),\n",
    "                     ('tfidf', TfidfTransformer()),\n",
    "                     ('clf', LogisticRegression()),])\n",
    "text_clf.fit(X_train, y_train)\n",
    "predicted_test = text_clf.predict(X_test)\n",
    "predicted_train = text_clf.predict(X_train)\n",
    "print(\"Logistic Regression Results\")\n",
    "print(\"\")\n",
    "evaluate(y_train, predicted_train, y_test, predicted_test, class_names=class_names)"
   ]
  },
  {
   "cell_type": "markdown",
   "metadata": {},
   "source": [
    "### 2. Random Forest Classifier "
   ]
  },
  {
   "cell_type": "code",
   "execution_count": 230,
   "metadata": {},
   "outputs": [
    {
     "name": "stdout",
     "output_type": "stream",
     "text": [
      "Random Forest Results\n",
      "\n",
      "Training Precision:  0.9931467732724157\n",
      "Testing Precision:  0.6334563345633456\n",
      "\n",
      "\n",
      "\n",
      "Training Recall:  0.9764177428411005\n",
      "Testing Recall:  0.5276639344262295\n",
      "\n",
      "\n",
      "\n",
      "Training Accuracy:  0.9847068819031436\n",
      "Testing Accuracy:  0.6009463722397477\n",
      "\n",
      "\n",
      "\n",
      "Training F1 Score:  0.9847112117780294\n",
      "Testing F1 Score:  0.5757406372275015\n",
      "\n",
      "\n",
      "\n",
      "Confusion matrix, without normalization\n"
     ]
    },
    {
     "data": {
      "image/png": "[encoded data removed]",
      "text/plain": [
       "<Figure size 432x288 with 2 Axes>"
      ]
     },
     "metadata": {
      "needs_background": "light"
     },
     "output_type": "display_data"
    },
    {
     "name": "stdout",
     "output_type": "stream",
     "text": [
      "\n",
      "\n",
      "\n",
      "Normalized confusion matrix\n"
     ]
    },
    {
     "data": {
      "image/png": "[encoded data removed]",
      "text/plain": [
       "<Figure size 432x288 with 2 Axes>"
      ]
     },
     "metadata": {
      "needs_background": "light"
     },
     "output_type": "display_data"
    }
   ],
   "source": [
    "# Utilizing pipelines to Count Vectorize, TF-IDF transform, and run the classifier:\n",
    "text_clf = Pipeline([('vect', CountVectorizer()),\n",
    "                     ('tfidf', TfidfTransformer()),\n",
    "                     ('clf', RandomForestClassifier()),])\n",
    "text_clf.fit(X_train, y_train)\n",
    "predicted_test = text_clf.predict(X_test)\n",
    "predicted_train = text_clf.predict(X_train)\n",
    "print(\"Random Forest Results\")\n",
    "print(\"\")\n",
    "evaluate(y_train, predicted_train, y_test, predicted_test, class_names=class_names)"
   ]
  },
  {
   "cell_type": "markdown",
   "metadata": {},
   "source": [
    "### 3. Adaboost"
   ]
  },
  {
   "cell_type": "code",
   "execution_count": 231,
   "metadata": {
    "scrolled": false
   },
   "outputs": [
    {
     "name": "stdout",
     "output_type": "stream",
     "text": [
      "Adaboost Results\n",
      "\n",
      "Training Precision:  0.7449814126394052\n",
      "Testing Precision:  0.6540027137042063\n",
      "\n",
      "\n",
      "\n",
      "Training Recall:  0.562605277933745\n",
      "Testing Recall:  0.49385245901639346\n",
      "\n",
      "\n",
      "\n",
      "Training Accuracy:  0.6822429906542056\n",
      "Testing Accuracy:  0.6062039957939012\n",
      "\n",
      "\n",
      "\n",
      "Training F1 Score:  0.6410748560460652\n",
      "Testing F1 Score:  0.5627553998832459\n",
      "\n",
      "\n",
      "\n",
      "Confusion matrix, without normalization\n"
     ]
    },
    {
     "data": {
      "image/png": "[encoded data removed]",
      "text/plain": [
       "<Figure size 432x288 with 2 Axes>"
      ]
     },
     "metadata": {
      "needs_background": "light"
     },
     "output_type": "display_data"
    },
    {
     "name": "stdout",
     "output_type": "stream",
     "text": [
      "\n",
      "\n",
      "\n",
      "Normalized confusion matrix\n"
     ]
    },
    {
     "data": {
      "image/png": "[encoded data removed]",
      "text/plain": [
       "<Figure size 432x288 with 2 Axes>"
      ]
     },
     "metadata": {
      "needs_background": "light"
     },
     "output_type": "display_data"
    }
   ],
   "source": [
    "# Utilizing pipelines to Count Vectorize, TF-IDF transform, and run the classifier:\n",
    "text_clf = Pipeline([('vect', CountVectorizer()),\n",
    "                     ('tfidf', TfidfTransformer()),\n",
    "                     ('clf', AdaBoostClassifier()),])\n",
    "text_clf.fit(X_train, y_train)\n",
    "predicted_test = text_clf.predict(X_test)\n",
    "predicted_train = text_clf.predict(X_train)\n",
    "print(\"Adaboost Results\")\n",
    "print(\"\")\n",
    "evaluate(y_train, predicted_train, y_test, predicted_test, class_names=class_names)"
   ]
  },
  {
   "cell_type": "markdown",
   "metadata": {},
   "source": [
    "### 4. Gradient Boosting "
   ]
  },
  {
   "cell_type": "code",
   "execution_count": 232,
   "metadata": {},
   "outputs": [
    {
     "name": "stdout",
     "output_type": "stream",
     "text": [
      "Gradient Boosting Results\n",
      "\n",
      "Training Precision:  0.8439226519337016\n",
      "Testing Precision:  0.6567695961995249\n",
      "\n",
      "\n",
      "\n",
      "Training Recall:  0.6861313868613139\n",
      "Testing Recall:  0.5665983606557377\n",
      "\n",
      "\n",
      "\n",
      "Training Accuracy:  0.777683375814217\n",
      "Testing Accuracy:  0.6256572029442692\n",
      "\n",
      "\n",
      "\n",
      "Training F1 Score:  0.7568906782285538\n",
      "Testing F1 Score:  0.6083608360836082\n",
      "\n",
      "\n",
      "\n",
      "Confusion matrix, without normalization\n"
     ]
    },
    {
     "data": {
      "image/png": "[encoded data removed]",
      "text/plain": [
       "<Figure size 432x288 with 2 Axes>"
      ]
     },
     "metadata": {
      "needs_background": "light"
     },
     "output_type": "display_data"
    },
    {
     "name": "stdout",
     "output_type": "stream",
     "text": [
      "\n",
      "\n",
      "\n",
      "Normalized confusion matrix\n"
     ]
    },
    {
     "data": {
      "image/png": "[encoded data removed]",
      "text/plain": [
       "<Figure size 432x288 with 2 Axes>"
      ]
     },
     "metadata": {
      "needs_background": "light"
     },
     "output_type": "display_data"
    }
   ],
   "source": [
    "# Utilizing pipelines to Count Vectorize, TF-IDF transform, and run the classifier:\n",
    "text_clf = Pipeline([('vect', CountVectorizer()),\n",
    "                     ('tfidf', TfidfTransformer()),\n",
    "                     ('clf', GradientBoostingClassifier()),])\n",
    "text_clf.fit(X_train, y_train)\n",
    "predicted_test = text_clf.predict(X_test)\n",
    "predicted_train = text_clf.predict(X_train)\n",
    "print(\"Gradient Boosting Results\")\n",
    "print(\"\")\n",
    "evaluate(y_train, predicted_train, y_test, predicted_test, class_names=class_names)"
   ]
  },
  {
   "cell_type": "markdown",
   "metadata": {},
   "source": [
    "### 5. XGB Classifier "
   ]
  },
  {
   "cell_type": "code",
   "execution_count": 233,
   "metadata": {},
   "outputs": [
    {
     "name": "stdout",
     "output_type": "stream",
     "text": [
      "XGBoost Results\n",
      "\n",
      "Training Precision:  0.8406754772393539\n",
      "Testing Precision:  0.6612090680100756\n",
      "\n",
      "\n",
      "\n",
      "Training Recall:  0.6428972487366648\n",
      "Testing Recall:  0.5379098360655737\n",
      "\n",
      "\n",
      "\n",
      "Training Accuracy:  0.7584253752478052\n",
      "Testing Accuracy:  0.6214511041009464\n",
      "\n",
      "\n",
      "\n",
      "Training F1 Score:  0.7286032453070315\n",
      "Testing F1 Score:  0.5932203389830508\n",
      "\n",
      "\n",
      "\n",
      "Confusion matrix, without normalization\n"
     ]
    },
    {
     "data": {
      "image/png": "[encoded data removed]",
      "text/plain": [
       "<Figure size 432x288 with 2 Axes>"
      ]
     },
     "metadata": {
      "needs_background": "light"
     },
     "output_type": "display_data"
    },
    {
     "name": "stdout",
     "output_type": "stream",
     "text": [
      "\n",
      "\n",
      "\n",
      "Normalized confusion matrix\n"
     ]
    },
    {
     "data": {
      "image/png": "[encoded data removed]",
      "text/plain": [
       "<Figure size 432x288 with 2 Axes>"
      ]
     },
     "metadata": {
      "needs_background": "light"
     },
     "output_type": "display_data"
    }
   ],
   "source": [
    "# Utilizing pipelines to Count Vectorize, TF-IDF transform, and run the classifier:\n",
    "text_clf = Pipeline([('vect', CountVectorizer()),\n",
    "                     ('tfidf', TfidfTransformer()),\n",
    "                     ('clf', XGBClassifier()),])\n",
    "text_clf.fit(X_train, y_train)\n",
    "predicted_test = text_clf.predict(X_test)\n",
    "predicted_train = text_clf.predict(X_train)\n",
    "print(\"XGBoost Results\")\n",
    "print(\"\")\n",
    "evaluate(y_train, predicted_train, y_test, predicted_test, class_names=class_names)"
   ]
  },
  {
   "cell_type": "markdown",
   "metadata": {},
   "source": [
    "### 6. SGD Classifier"
   ]
  },
  {
   "cell_type": "code",
   "execution_count": 234,
   "metadata": {
    "scrolled": false
   },
   "outputs": [
    {
     "name": "stdout",
     "output_type": "stream",
     "text": [
      "Stochastic Gradient Descent Results\n",
      "\n",
      "Training Precision:  0.958803611738149\n",
      "Testing Precision:  0.6637744034707158\n",
      "\n",
      "\n",
      "\n",
      "Training Recall:  0.9539584503088153\n",
      "Testing Recall:  0.6270491803278688\n",
      "\n",
      "\n",
      "\n",
      "Training Accuracy:  0.9561030869442084\n",
      "Testing Accuracy:  0.6456361724500526\n",
      "\n",
      "\n",
      "\n",
      "Training F1 Score:  0.9563748944553899\n",
      "Testing F1 Score:  0.6448893572181243\n",
      "\n",
      "\n",
      "\n",
      "Confusion matrix, without normalization\n"
     ]
    },
    {
     "data": {
      "image/png": "[encoded data removed]",
      "text/plain": [
       "<Figure size 432x288 with 2 Axes>"
      ]
     },
     "metadata": {
      "needs_background": "light"
     },
     "output_type": "display_data"
    },
    {
     "name": "stdout",
     "output_type": "stream",
     "text": [
      "\n",
      "\n",
      "\n",
      "Normalized confusion matrix\n"
     ]
    },
    {
     "data": {
      "image/png": "[encoded data removed]",
      "text/plain": [
       "<Figure size 432x288 with 2 Axes>"
      ]
     },
     "metadata": {
      "needs_background": "light"
     },
     "output_type": "display_data"
    }
   ],
   "source": [
    "# Utilizing pipelines to Count Vectorize, TF-IDF transform, and run the classifier:\n",
    "text_clf = Pipeline([('vect', CountVectorizer()),\n",
    "                     ('tfidf', TfidfTransformer()),\n",
    "                     ('clf', SGDClassifier()),])\n",
    "text_clf.fit(X_train, y_train)\n",
    "predicted_test = text_clf.predict(X_test)\n",
    "predicted_train = text_clf.predict(X_train)\n",
    "print(\"Stochastic Gradient Descent Results\")\n",
    "print(\"\")\n",
    "evaluate(y_train, predicted_train, y_test, predicted_test, class_names=class_names)"
   ]
  },
  {
   "cell_type": "markdown",
   "metadata": {},
   "source": [
    "### 7. Multinomial Naive Bayes Classifier"
   ]
  },
  {
   "cell_type": "code",
   "execution_count": 235,
   "metadata": {
    "scrolled": false
   },
   "outputs": [
    {
     "name": "stdout",
     "output_type": "stream",
     "text": [
      "Multinomial Naive Bayes Results\n",
      "\n",
      "Training Precision:  0.7869986168741355\n",
      "Testing Precision:  0.621273166800967\n",
      "\n",
      "\n",
      "\n",
      "Training Recall:  0.9584503088152723\n",
      "Testing Recall:  0.7899590163934426\n",
      "\n",
      "\n",
      "\n",
      "Training Accuracy:  0.848201642594166\n",
      "Testing Accuracy:  0.6451104100946372\n",
      "\n",
      "\n",
      "\n",
      "Training F1 Score:  0.8643037974683544\n",
      "Testing F1 Score:  0.6955345060893099\n",
      "\n",
      "\n",
      "\n",
      "Confusion matrix, without normalization\n"
     ]
    },
    {
     "data": {
      "image/png": "[encoded data removed]",
      "text/plain": [
       "<Figure size 432x288 with 2 Axes>"
      ]
     },
     "metadata": {
      "needs_background": "light"
     },
     "output_type": "display_data"
    },
    {
     "name": "stdout",
     "output_type": "stream",
     "text": [
      "\n",
      "\n",
      "\n",
      "Normalized confusion matrix\n"
     ]
    },
    {
     "data": {
      "image/png": "[encoded data removed]",
      "text/plain": [
       "<Figure size 432x288 with 2 Axes>"
      ]
     },
     "metadata": {
      "needs_background": "light"
     },
     "output_type": "display_data"
    }
   ],
   "source": [
    "# Utilizing pipelines to Count Vectorize, TF-IDF transform, and run the classifier:\n",
    "text_clf = Pipeline([('vect', CountVectorizer()),\n",
    "                     ('tfidf', TfidfTransformer()),\n",
    "                     ('clf', MultinomialNB()),])\n",
    "text_clf.fit(X_train, y_train)\n",
    "predicted_test = text_clf.predict(X_test)\n",
    "predicted_train = text_clf.predict(X_train)\n",
    "print(\"Multinomial Naive Bayes Results\")\n",
    "print(\"\")\n",
    "evaluate(y_train, predicted_train, y_test, predicted_test, class_names=class_names)"
   ]
  },
  {
   "cell_type": "markdown",
   "metadata": {},
   "source": [
    "<a id='Part_4'></a>"
   ]
  },
  {
   "cell_type": "markdown",
   "metadata": {},
   "source": [
    "# Hyperparameter Tuning"
   ]
  },
  {
   "cell_type": "code",
   "execution_count": 236,
   "metadata": {},
   "outputs": [],
   "source": [
    "#pipeline to pass to gridsearch\n",
    "pipe = Pipeline([('cv', CountVectorizer()), ('tf', TfidfTransformer()), ('mnb', MultinomialNB())])\n",
    "#parameters to pass to gridsearch\n",
    "grid_params = {'cv__ngram_range': [(1,1), (1,2), (1,3)],\n",
    "               'cv__max_df': np.linspace(0.1, 1, 10),\n",
    "               'cv__binary': [True, False],\n",
    "               'tf__norm': [None, 'l1', 'l2'],\n",
    "               'mnb__alpha': np.linspace(0.5, 1.5, 3),\n",
    "               'mnb__fit_prior': [True, False]}\n",
    "# Utilizing GridSearchCV to scan all parameters and evaluate classifier performance with each parameter passed\n",
    "gs = GridSearchCV(estimator=pipe, param_grid=grid_params, scoring='balanced_accuracy', cv=3, verbose=2, return_train_score = True)\n",
    "gs.fit(X_train, y_train)\n",
    "print(\"Best Score: \", gs.best_score_)\n",
    "print(\"Best Params: \", gs.best_params_)"
   ]
  },
  {
   "cell_type": "code",
   "execution_count": 239,
   "metadata": {},
   "outputs": [
    {
     "name": "stdout",
     "output_type": "stream",
     "text": [
      "Multinomial Naive Bayes Results\n",
      "\n",
      "Training Precision:  0.9983183856502242\n",
      "Testing Precision:  0.6427350427350428\n",
      "\n",
      "\n",
      "\n",
      "Training Recall:  1.0\n",
      "Testing Recall:  0.7704918032786885\n",
      "\n",
      "\n",
      "\n",
      "Training Accuracy:  0.9991503823279524\n",
      "Testing Accuracy:  0.6624605678233438\n",
      "\n",
      "\n",
      "\n",
      "Training F1 Score:  0.9991584852734923\n",
      "Testing F1 Score:  0.700838769804287\n",
      "\n",
      "\n",
      "\n",
      "Confusion matrix, without normalization\n"
     ]
    },
    {
     "data": {
      "image/png": "[encoded data removed]",
      "text/plain": [
       "<Figure size 432x288 with 2 Axes>"
      ]
     },
     "metadata": {
      "needs_background": "light"
     },
     "output_type": "display_data"
    },
    {
     "name": "stdout",
     "output_type": "stream",
     "text": [
      "\n",
      "\n",
      "\n",
      "Normalized confusion matrix\n"
     ]
    },
    {
     "data": {
      "image/png": "[encoded data removed]",
      "text/plain": [
       "<Figure size 432x288 with 2 Axes>"
      ]
     },
     "metadata": {
      "needs_background": "light"
     },
     "output_type": "display_data"
    }
   ],
   "source": [
    "#implementing above parameters from gridsearch to our pipeline:\n",
    "text_mnb = Pipeline([('vect', CountVectorizer(binary=False, max_df=0.1, ngram_range=(1,2))),\n",
    "                     ('tfidf', TfidfTransformer(norm='l2')),\n",
    "                     ('clf', MultinomialNB(alpha=0.5, fit_prior=True)),])\n",
    "text_mnb.fit(X_train, y_train)\n",
    "predicted_test = text_mnb.predict(X_test)\n",
    "predicted_train = text_mnb.predict(X_train)\n",
    "print(\"Multinomial Naive Bayes Results\")\n",
    "print(\"\")\n",
    "evaluate(y_train, predicted_train, y_test, predicted_test, class_names=class_names)"
   ]
  },
  {
   "cell_type": "markdown",
   "metadata": {},
   "source": [
    "Based on our GridSearch, we have tuned our hyperparameters and have come up with an even better Accuracy, Precision and F1 Score, while the Recall score dropped slightly, overall though it's a good outcome:\n",
    "\n",
    "* Prior Testing Accuracy:  0.6451104100946372\n",
    "\n",
    "* New Testing Accuracy:  0.6624605678233438\n",
    "\n",
    "\n",
    "* Prior Testing Recall:  0.7899590163934426\n",
    "\n",
    "* New Testing Recall:  0.7704918032786885\n",
    "\n",
    "\n",
    "* Prior Testing Precision:  0.621273166800967\n",
    "\n",
    "* Testing Precision:  0.6427350427350428\n",
    "\n",
    "\n",
    "* Prior Testing F1 Score:  0.6955345060893099\n",
    "\n",
    "* New Testing F1 Score:  0.700838769804287\n",
    "\n",
    "Not bad, but perhaps we can do better with some deep learning! "
   ]
  },
  {
   "cell_type": "markdown",
   "metadata": {},
   "source": [
    "# Final Classifier\n",
    "### Saving final classifier to pickle"
   ]
  },
  {
   "cell_type": "code",
   "execution_count": 403,
   "metadata": {},
   "outputs": [],
   "source": [
    "# Dump the trained classifier with Pickle\n",
    "text_mnb_pkl_filename = 'Text_MNB.pkl'\n",
    "# Open the file to save as pkl file\n",
    "text_mnb_model_pkl = open(text_mnb_pkl_filename, 'wb')\n",
    "pickle.dump(model4, text_mnb_model_pkl)\n",
    "# Close the pickle instances\n",
    "text_mnb_model_pkl.close()"
   ]
  },
  {
   "cell_type": "markdown",
   "metadata": {},
   "source": [
    "# LSTM and GRU Neural Network to add to the fun:)"
   ]
  },
  {
   "cell_type": "code",
   "execution_count": 378,
   "metadata": {},
   "outputs": [],
   "source": [
    "#splitting the data only containing the text and labels\n",
    "X_train, X_test, y_train, y_test = train_test_split(final_df.selftext, final_df.labels)"
   ]
  },
  {
   "cell_type": "code",
   "execution_count": 379,
   "metadata": {},
   "outputs": [],
   "source": [
    "#Tokenizing the text\n",
    "tokenizer = Tokenizer(num_words=20000)\n",
    "tokenizer.fit_on_texts(list(X_train))"
   ]
  },
  {
   "cell_type": "code",
   "execution_count": 380,
   "metadata": {},
   "outputs": [],
   "source": [
    "#Text to sequence function\n",
    "def token_lists(X_train, X_test, tokenizer):\n",
    "    \n",
    "    list_tokenized_train = tokenizer.texts_to_sequences(X_train)\n",
    "    list_tokenized_test = tokenizer.texts_to_sequences(X_test)\n",
    "\n",
    "    return list_tokenized_train, list_tokenized_test"
   ]
  },
  {
   "cell_type": "code",
   "execution_count": 381,
   "metadata": {},
   "outputs": [],
   "source": [
    "#Implementing the function\n",
    "list_tokenized_train, list_tokenized_test = token_lists(X_train, X_test, tokenizer)"
   ]
  },
  {
   "cell_type": "code",
   "execution_count": 382,
   "metadata": {},
   "outputs": [],
   "source": [
    "maxlen = 100\n",
    "X_t = pad_sequences(list_tokenized_train, maxlen=maxlen)\n",
    "X_te = pad_sequences(list_tokenized_test, maxlen=maxlen)\n",
    "y_t = np.array(y_train)\n",
    "y_te = np.array(y_test)"
   ]
  },
  {
   "cell_type": "code",
   "execution_count": 383,
   "metadata": {},
   "outputs": [
    {
     "name": "stdout",
     "output_type": "stream",
     "text": [
      "Train on 3672 samples, validate on 408 samples\n",
      "Epoch 1/10\n",
      " - 29s - loss: 0.6972 - acc: 0.5025 - val_loss: 0.6945 - val_acc: 0.5686\n",
      "Epoch 2/10\n",
      " - 11s - loss: 0.6639 - acc: 0.6021 - val_loss: 0.6623 - val_acc: 0.6078\n",
      "Epoch 3/10\n",
      " - 11s - loss: 0.4810 - acc: 0.7922 - val_loss: 0.7163 - val_acc: 0.6152\n",
      "Epoch 4/10\n",
      " - 11s - loss: 0.2556 - acc: 0.9093 - val_loss: 1.0560 - val_acc: 0.5809\n",
      "Epoch 5/10\n",
      " - 10s - loss: 0.1288 - acc: 0.9562 - val_loss: 1.2886 - val_acc: 0.5760\n",
      "Epoch 6/10\n",
      " - 11s - loss: 0.0751 - acc: 0.9728 - val_loss: 1.7143 - val_acc: 0.5907\n",
      "Epoch 7/10\n",
      " - 11s - loss: 0.0515 - acc: 0.9831 - val_loss: 2.2008 - val_acc: 0.6005\n",
      "Epoch 8/10\n",
      " - 11s - loss: 0.0413 - acc: 0.9869 - val_loss: 2.4530 - val_acc: 0.5539\n",
      "Epoch 9/10\n",
      " - 11s - loss: 0.0279 - acc: 0.9921 - val_loss: 2.6296 - val_acc: 0.5858\n",
      "Epoch 10/10\n",
      " - 11s - loss: 0.0497 - acc: 0.9867 - val_loss: 2.3992 - val_acc: 0.5907\n"
     ]
    }
   ],
   "source": [
    "#Building the model\n",
    "model = Sequential()\n",
    "model.add(Embedding(20000, embedding_size))\n",
    "model.add(GRU(50, return_sequences=True))\n",
    "model.add(MaxPooling1D())\n",
    "model.add(Conv1D(64, 3, activation='relu', padding='same'))\n",
    "model.add(MaxPooling1D())\n",
    "model.add(Conv1D(64, 3, activation='relu', padding='same'))\n",
    "model.add(GlobalMaxPooling1D())\n",
    "model.add(Dropout(0.5))\n",
    "model.add(Dense(32, activation='relu', kernel_regularizer=regularizers.l2(1e-4)))\n",
    "model.add(Dense(1, activation='sigmoid'))\n",
    "\n",
    "\n",
    "model.compile(\n",
    "        loss='binary_crossentropy',\n",
    "        optimizer=optimizers.Adam(),\n",
    "        metrics=['accuracy'])\n",
    "\n",
    "    # fit model\n",
    "hist = model.fit(X_t, y_t, validation_split=0.1,batch_size=32, epochs=10, verbose=2)\n"
   ]
  },
  {
   "cell_type": "code",
   "execution_count": 384,
   "metadata": {},
   "outputs": [
    {
     "name": "stdout",
     "output_type": "stream",
     "text": [
      "Normalized confusion matrix\n"
     ]
    },
    {
     "data": {
      "image/png": "[encoded data removed]",
      "text/plain": [
       "<Figure size 432x288 with 2 Axes>"
      ]
     },
     "metadata": {
      "needs_background": "light"
     },
     "output_type": "display_data"
    }
   ],
   "source": [
    "#Evaluating the model\n",
    "y_pred = (model.predict(X_te, batch_size=1)>0.5)\n",
    "cm = confusion_matrix(y_te, y_pred)\n",
    "plot_confusion_matrix(cm, class_names, normalize=True)"
   ]
  },
  {
   "cell_type": "code",
   "execution_count": 385,
   "metadata": {},
   "outputs": [
    {
     "name": "stdout",
     "output_type": "stream",
     "text": [
      "Train on 3672 samples, validate on 408 samples\n",
      "Epoch 1/10\n",
      " - 28s - loss: 0.6974 - acc: 0.5022 - val_loss: 0.6943 - val_acc: 0.5221\n",
      "Epoch 2/10\n",
      " - 13s - loss: 0.6681 - acc: 0.5923 - val_loss: 0.6675 - val_acc: 0.5882\n",
      "Epoch 3/10\n",
      " - 13s - loss: 0.4811 - acc: 0.7827 - val_loss: 0.8566 - val_acc: 0.5588\n",
      "Epoch 4/10\n",
      " - 13s - loss: 0.2508 - acc: 0.9011 - val_loss: 0.9509 - val_acc: 0.5980\n",
      "Epoch 5/10\n",
      " - 14s - loss: 0.1412 - acc: 0.9523 - val_loss: 1.3516 - val_acc: 0.6029\n",
      "Epoch 6/10\n",
      " - 13s - loss: 0.0911 - acc: 0.9681 - val_loss: 1.5758 - val_acc: 0.5858\n",
      "Epoch 7/10\n",
      " - 13s - loss: 0.0515 - acc: 0.9831 - val_loss: 2.5431 - val_acc: 0.5588\n",
      "Epoch 8/10\n",
      " - 14s - loss: 0.0352 - acc: 0.9897 - val_loss: 2.3086 - val_acc: 0.5833\n",
      "Epoch 9/10\n",
      " - 13s - loss: 0.0271 - acc: 0.9913 - val_loss: 3.2793 - val_acc: 0.5882\n",
      "Epoch 10/10\n",
      " - 13s - loss: 0.0440 - acc: 0.9867 - val_loss: 2.4549 - val_acc: 0.5735\n"
     ]
    }
   ],
   "source": [
    "#Building an LSTM Model\n",
    "model2 = Sequential()\n",
    "model2.add(Embedding(20000, embedding_size))\n",
    "model2.add(LSTM(50, return_sequences=True))\n",
    "model2.add(MaxPooling1D())\n",
    "model2.add(Conv1D(64, 3, activation='relu', padding='same'))\n",
    "model2.add(MaxPooling1D())\n",
    "model2.add(Conv1D(64, 3, activation='relu', padding='same'))\n",
    "model2.add(GlobalMaxPooling1D())\n",
    "model2.add(Dropout(0.5))\n",
    "model2.add(Dense(32, activation='relu', kernel_regularizer=regularizers.l2(1e-4)))\n",
    "model2.add(Dense(1, activation='sigmoid'))\n",
    "\n",
    "\n",
    "model2.compile(\n",
    "        loss='binary_crossentropy',\n",
    "        optimizer=optimizers.Adam(),\n",
    "        metrics=['accuracy'])\n",
    "\n",
    "    # fit model\n",
    "hist = model2.fit(X_t, y_t, validation_split=0.1,batch_size=32, epochs=10, verbose=2)\n"
   ]
  },
  {
   "cell_type": "code",
   "execution_count": 386,
   "metadata": {},
   "outputs": [
    {
     "name": "stdout",
     "output_type": "stream",
     "text": [
      "Normalized confusion matrix\n"
     ]
    },
    {
     "data": {
      "image/png": "[encoded data removed]",
      "text/plain": [
       "<Figure size 432x288 with 2 Axes>"
      ]
     },
     "metadata": {
      "needs_background": "light"
     },
     "output_type": "display_data"
    }
   ],
   "source": [
    "#Evaluating the LSTM Model\n",
    "y_pred = (model2.predict(X_te, batch_size=1)>0.5)\n",
    "cm = confusion_matrix(y_te, y_pred)\n",
    "plot_confusion_matrix(cm, class_names, normalize=True)"
   ]
  },
  {
   "cell_type": "code",
   "execution_count": 389,
   "metadata": {},
   "outputs": [
    {
     "name": "stdout",
     "output_type": "stream",
     "text": [
      "Train on 3672 samples, validate on 408 samples\n",
      "Epoch 1/10\n",
      " - 27s - loss: 0.6979 - acc: 0.4970 - val_loss: 0.6968 - val_acc: 0.4804\n",
      "Epoch 2/10\n",
      " - 15s - loss: 0.6801 - acc: 0.5689 - val_loss: 0.6702 - val_acc: 0.6005\n",
      "Epoch 3/10\n",
      " - 16s - loss: 0.5570 - acc: 0.7211 - val_loss: 0.6889 - val_acc: 0.6250\n",
      "Epoch 4/10\n",
      " - 15s - loss: 0.3046 - acc: 0.8777 - val_loss: 0.9351 - val_acc: 0.6127\n",
      "Epoch 5/10\n",
      " - 15s - loss: 0.1314 - acc: 0.9540 - val_loss: 1.4853 - val_acc: 0.6103\n",
      "Epoch 6/10\n",
      " - 15s - loss: 0.0538 - acc: 0.9815 - val_loss: 2.2172 - val_acc: 0.5980\n",
      "Epoch 7/10\n",
      " - 15s - loss: 0.0525 - acc: 0.9826 - val_loss: 2.1232 - val_acc: 0.6201\n",
      "Epoch 8/10\n",
      " - 15s - loss: 0.0291 - acc: 0.9891 - val_loss: 2.4592 - val_acc: 0.6127\n",
      "Epoch 9/10\n",
      " - 15s - loss: 0.0332 - acc: 0.9899 - val_loss: 2.4585 - val_acc: 0.5956\n",
      "Epoch 10/10\n",
      " - 16s - loss: 0.0533 - acc: 0.9834 - val_loss: 2.1003 - val_acc: 0.6078\n"
     ]
    }
   ],
   "source": [
    "# Building a Bidirectional GRU Model\n",
    "model4 = Sequential()\n",
    "model4.add(Embedding(20000, embedding_size))\n",
    "model4.add(Bidirectional(GRU(50, return_sequences=True)))\n",
    "model4.add(MaxPooling1D())\n",
    "model4.add(Conv1D(64, 3, activation='relu', padding='same'))\n",
    "model4.add(MaxPooling1D())\n",
    "model4.add(Conv1D(64, 3, activation='relu', padding='same'))\n",
    "model4.add(GlobalMaxPooling1D())\n",
    "model4.add(Dropout(0.5))\n",
    "model4.add(Dense(32, activation='relu', kernel_regularizer=regularizers.l2(1e-4)))\n",
    "model4.add(Dense(1, activation='sigmoid'))\n",
    "\n",
    "\n",
    "model4.compile(\n",
    "        loss='binary_crossentropy',\n",
    "        optimizer=optimizers.Adam(),\n",
    "        metrics=['accuracy'])\n",
    "\n",
    "    # fit model\n",
    "hist = model4.fit(X_t, y_t, validation_split=0.1,batch_size=32, epochs=10, verbose=2)"
   ]
  },
  {
   "cell_type": "code",
   "execution_count": 390,
   "metadata": {},
   "outputs": [
    {
     "name": "stdout",
     "output_type": "stream",
     "text": [
      "Normalized confusion matrix\n"
     ]
    },
    {
     "data": {
      "image/png": "[encoded data removed]",
      "text/plain": [
       "<Figure size 432x288 with 2 Axes>"
      ]
     },
     "metadata": {
      "needs_background": "light"
     },
     "output_type": "display_data"
    }
   ],
   "source": [
    "# Evaluating the model\n",
    "y_pred = (model4.predict(X_te, batch_size=1)>0.5)\n",
    "cm = confusion_matrix(y_te, y_pred)\n",
    "plot_confusion_matrix(cm, class_names, normalize=True)"
   ]
  },
  {
   "cell_type": "code",
   "execution_count": 391,
   "metadata": {},
   "outputs": [
    {
     "name": "stdout",
     "output_type": "stream",
     "text": [
      "Train on 3672 samples, validate on 408 samples\n",
      "Epoch 1/10\n",
      " - 30s - loss: 0.6970 - acc: 0.5193 - val_loss: 0.6985 - val_acc: 0.4804\n",
      "Epoch 2/10\n",
      " - 20s - loss: 0.6747 - acc: 0.5806 - val_loss: 0.6524 - val_acc: 0.6152\n",
      "Epoch 3/10\n",
      " - 21s - loss: 0.4895 - acc: 0.7802 - val_loss: 0.7152 - val_acc: 0.6152\n",
      "Epoch 4/10\n",
      " - 19s - loss: 0.2508 - acc: 0.9036 - val_loss: 0.9713 - val_acc: 0.6054\n",
      "Epoch 5/10\n",
      " - 21s - loss: 0.1172 - acc: 0.9575 - val_loss: 1.5309 - val_acc: 0.6029\n",
      "Epoch 6/10\n",
      " - 21s - loss: 0.0705 - acc: 0.9769 - val_loss: 1.6717 - val_acc: 0.6127\n",
      "Epoch 7/10\n",
      " - 19s - loss: 0.0422 - acc: 0.9869 - val_loss: 2.2876 - val_acc: 0.6103\n",
      "Epoch 8/10\n",
      " - 20s - loss: 0.0256 - acc: 0.9913 - val_loss: 2.5536 - val_acc: 0.6005\n",
      "Epoch 9/10\n",
      " - 19s - loss: 0.0248 - acc: 0.9929 - val_loss: 2.7567 - val_acc: 0.6005\n",
      "Epoch 10/10\n",
      " - 20s - loss: 0.0199 - acc: 0.9948 - val_loss: 3.0999 - val_acc: 0.5907\n"
     ]
    }
   ],
   "source": [
    "# Building a Bidirectional LSTM Model\n",
    "model3 = Sequential()\n",
    "model3.add(Embedding(20000, embedding_size))\n",
    "model3.add(Bidirectional(LSTM(50, return_sequences=True)))\n",
    "model3.add(MaxPooling1D())\n",
    "model3.add(Conv1D(64, 3, activation='relu', padding='same'))\n",
    "model3.add(MaxPooling1D())\n",
    "model3.add(Conv1D(64, 3, activation='relu', padding='same'))\n",
    "model3.add(GlobalMaxPooling1D())\n",
    "model3.add(Dropout(0.5))\n",
    "model3.add(Dense(32, activation='relu', kernel_regularizer=regularizers.l2(1e-4)))\n",
    "model3.add(Dense(1, activation='sigmoid'))\n",
    "\n",
    "\n",
    "model3.compile(\n",
    "        loss='binary_crossentropy',\n",
    "        optimizer=optimizers.Adam(),\n",
    "        metrics=['accuracy'])\n",
    "\n",
    "    # fit model\n",
    "hist = model3.fit(X_t, y_t, validation_split=0.1,batch_size=32, epochs=10, verbose=2)"
   ]
  },
  {
   "cell_type": "code",
   "execution_count": 392,
   "metadata": {
    "scrolled": true
   },
   "outputs": [
    {
     "name": "stdout",
     "output_type": "stream",
     "text": [
      "Normalized confusion matrix\n"
     ]
    },
    {
     "data": {
      "image/png": "[encoded data removed]",
      "text/plain": [
       "<Figure size 432x288 with 2 Axes>"
      ]
     },
     "metadata": {
      "needs_background": "light"
     },
     "output_type": "display_data"
    }
   ],
   "source": [
    "# Evaluating the Model\n",
    "y_pred = (model3.predict(X_te, batch_size=1)>0.5)\n",
    "\n",
    "cm = confusion_matrix(y_te, y_pred)\n",
    "plot_confusion_matrix(cm, class_names, normalize=True)"
   ]
  },
  {
   "cell_type": "code",
   "execution_count": 397,
   "metadata": {},
   "outputs": [
    {
     "name": "stdout",
     "output_type": "stream",
     "text": [
      "Train on 3672 samples, validate on 408 samples\n",
      "Epoch 1/10\n",
      " - 31s - loss: 0.7199 - acc: 0.4973 - val_loss: 0.7158 - val_acc: 0.5270\n",
      "Epoch 2/10\n",
      " - 17s - loss: 0.7157 - acc: 0.5035 - val_loss: 0.7135 - val_acc: 0.4804\n",
      "Epoch 3/10\n",
      " - 16s - loss: 0.7117 - acc: 0.5169 - val_loss: 0.7108 - val_acc: 0.4877\n",
      "Epoch 4/10\n",
      " - 16s - loss: 0.7038 - acc: 0.5458 - val_loss: 0.6985 - val_acc: 0.5368\n",
      "Epoch 5/10\n",
      " - 17s - loss: 0.6285 - acc: 0.6702 - val_loss: 0.6577 - val_acc: 0.6373\n",
      "Epoch 6/10\n",
      " - 16s - loss: 0.4517 - acc: 0.8113 - val_loss: 0.7048 - val_acc: 0.6324\n",
      "Epoch 7/10\n",
      " - 17s - loss: 0.2545 - acc: 0.9115 - val_loss: 0.9543 - val_acc: 0.6250\n",
      "Epoch 8/10\n",
      " - 17s - loss: 0.1291 - acc: 0.9611 - val_loss: 1.2597 - val_acc: 0.6275\n",
      "Epoch 9/10\n",
      " - 16s - loss: 0.0751 - acc: 0.9831 - val_loss: 1.3801 - val_acc: 0.6250\n",
      "Epoch 10/10\n",
      " - 16s - loss: 0.0612 - acc: 0.9847 - val_loss: 2.0180 - val_acc: 0.6201\n"
     ]
    }
   ],
   "source": [
    "# Rebuilding the Bidirectional GRU Model, adding additional Dropout Layers to prevent overfitting\n",
    "model4 = Sequential()\n",
    "model4.add(Embedding(20000, embedding_size))\n",
    "model4.add(Bidirectional(GRU(50, return_sequences=True)))\n",
    "model4.add(MaxPooling1D())\n",
    "model4.add(Dropout(0.5))\n",
    "model4.add(Conv1D(64, 3, activation='relu', padding='same'))\n",
    "model4.add(MaxPooling1D())\n",
    "model4.add(Dropout(0.5))\n",
    "model4.add(Conv1D(64, 3, activation='relu', padding='same'))\n",
    "model4.add(GlobalMaxPooling1D())\n",
    "model4.add(Dropout(0.5))\n",
    "model4.add(Dense(32, activation='relu', kernel_regularizer=regularizers.l1(1e-4)))\n",
    "model4.add(Dropout(0.5))\n",
    "model4.add(Dense(1, activation='sigmoid'))\n",
    "\n",
    "\n",
    "model4.compile(\n",
    "        loss='binary_crossentropy',\n",
    "        optimizer=optimizers.Adam(),\n",
    "        metrics=['accuracy'])\n",
    "\n",
    "    # fit model\n",
    "hist = model4.fit(X_t, y_t, validation_split=0.1,batch_size=32, epochs=10, verbose=2)"
   ]
  },
  {
   "cell_type": "code",
   "execution_count": 398,
   "metadata": {},
   "outputs": [
    {
     "name": "stdout",
     "output_type": "stream",
     "text": [
      "Normalized confusion matrix\n"
     ]
    },
    {
     "data": {
      "image/png": "[encoded data removed]",
      "text/plain": [
       "<Figure size 432x288 with 2 Axes>"
      ]
     },
     "metadata": {
      "needs_background": "light"
     },
     "output_type": "display_data"
    }
   ],
   "source": [
    "# Evaluating our model\n",
    "y_pred = (model4.predict(X_te, batch_size=1)>0.5)\n",
    "\n",
    "cm = confusion_matrix(y_te, y_pred)\n",
    "plot_confusion_matrix(cm, class_names, normalize=True)"
   ]
  },
  {
   "cell_type": "markdown",
   "metadata": {},
   "source": [
    "# Not that much better than our classifiers but still pretty impressive considering our highly imperfect dataset!"
   ]
  },
  {
   "cell_type": "markdown",
   "metadata": {},
   "source": [
    "<a id='Part_5'></a>"
   ]
  },
  {
   "cell_type": "markdown",
   "metadata": {},
   "source": [
    "# Final Model\n",
    "### Saving final model to pickle"
   ]
  },
  {
   "cell_type": "code",
   "execution_count": 401,
   "metadata": {},
   "outputs": [],
   "source": [
    "\n",
    "# Dump the trained decision tree classifier with Pickle\n",
    "bgru_pkl_filename = 'Bidirectional_GRU.pkl'\n",
    "# Open the file to save as pkl file\n",
    "bgru_model_pkl = open(bgru_pkl_filename, 'wb')\n",
    "pickle.dump(model4, bgru_model_pkl)\n",
    "# Close the pickle instances\n",
    "bgru_model_pkl.close()"
   ]
  },
  {
   "cell_type": "markdown",
   "metadata": {},
   "source": [
    "<a id='Part_6'></a>"
   ]
  },
  {
   "cell_type": "markdown",
   "metadata": {},
   "source": [
    "# Conclusions\n",
    "* We have a decently well functioning model that can classify suicidal ideation in social media posts with ~66% accuracy. Considering the imperfect dataset we are working with, it is a pretty good model!\n",
    "\n",
    "* Our relatively high recall value of 77% ensures that we miss as few suicidal posters as possible when implementing our model!\n",
    "\n",
    "### Up Next... What if we add in additional features, including percentage of absolutist words used, post length, sentiment, subjectivity, and time of day posted? Will that improve our model?"
   ]
  }
 ],
 "metadata": {
  "kernelspec": {
   "display_name": "Python 3",
   "language": "python",
   "name": "python3"
  },
  "language_info": {
   "codemirror_mode": {
    "name": "ipython",
    "version": 3
   },
   "file_extension": ".py",
   "mimetype": "text/x-python",
   "name": "python",
   "nbconvert_exporter": "python",
   "pygments_lexer": "ipython3",
   "version": "3.7.2"
  }
 },
 "nbformat": 4,
 "nbformat_minor": 2
}
